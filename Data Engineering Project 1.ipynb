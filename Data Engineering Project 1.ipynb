{
 "cells": [
  {
   "cell_type": "markdown",
   "id": "4c7fcf32",
   "metadata": {},
   "source": [
    "https://www.youtube.com/watch?v=POjDCe-_G8k&list=PLBJe2dFI4sgukOW6O0B-OVyX9c6fQKJ2N&index=3"
   ]
  },
  {
   "cell_type": "markdown",
   "id": "c5d58e44",
   "metadata": {},
   "source": [
    "https://www.kaggle.com/datasets/csanhueza/the-marvel-universe-social-network"
   ]
  },
  {
   "cell_type": "markdown",
   "id": "a148293c",
   "metadata": {},
   "source": [
    "1: Create a table with PostgreSQL"
   ]
  },
  {
   "cell_type": "code",
   "execution_count": 1,
   "id": "04d06745",
   "metadata": {},
   "outputs": [],
   "source": [
    "import psycopg2\n",
    "import pandas as pd"
   ]
  },
  {
   "cell_type": "markdown",
   "id": "fd1a0442",
   "metadata": {},
   "source": [
    "extract data from .csv files"
   ]
  },
  {
   "cell_type": "code",
   "execution_count": 2,
   "id": "3d72e2c5",
   "metadata": {},
   "outputs": [],
   "source": [
    "edgesdf = pd.read_csv(\"edges.csv\")\n",
    "herodf = pd.read_csv(\"hero-network.csv\")\n",
    "nodesdf = pd.read_csv(\"nodes.csv\")"
   ]
  },
  {
   "cell_type": "code",
   "execution_count": 3,
   "id": "952e8551",
   "metadata": {},
   "outputs": [
    {
     "data": {
      "text/html": [
       "<div>\n",
       "<style scoped>\n",
       "    .dataframe tbody tr th:only-of-type {\n",
       "        vertical-align: middle;\n",
       "    }\n",
       "\n",
       "    .dataframe tbody tr th {\n",
       "        vertical-align: top;\n",
       "    }\n",
       "\n",
       "    .dataframe thead th {\n",
       "        text-align: right;\n",
       "    }\n",
       "</style>\n",
       "<table border=\"1\" class=\"dataframe\">\n",
       "  <thead>\n",
       "    <tr style=\"text-align: right;\">\n",
       "      <th></th>\n",
       "      <th>hero</th>\n",
       "      <th>comic</th>\n",
       "    </tr>\n",
       "  </thead>\n",
       "  <tbody>\n",
       "    <tr>\n",
       "      <th>0</th>\n",
       "      <td>24-HOUR MAN/EMMANUEL</td>\n",
       "      <td>AA2 35</td>\n",
       "    </tr>\n",
       "    <tr>\n",
       "      <th>1</th>\n",
       "      <td>3-D MAN/CHARLES CHAN</td>\n",
       "      <td>AVF 4</td>\n",
       "    </tr>\n",
       "    <tr>\n",
       "      <th>2</th>\n",
       "      <td>3-D MAN/CHARLES CHAN</td>\n",
       "      <td>AVF 5</td>\n",
       "    </tr>\n",
       "    <tr>\n",
       "      <th>3</th>\n",
       "      <td>3-D MAN/CHARLES CHAN</td>\n",
       "      <td>COC 1</td>\n",
       "    </tr>\n",
       "    <tr>\n",
       "      <th>4</th>\n",
       "      <td>3-D MAN/CHARLES CHAN</td>\n",
       "      <td>H2 251</td>\n",
       "    </tr>\n",
       "  </tbody>\n",
       "</table>\n",
       "</div>"
      ],
      "text/plain": [
       "                   hero   comic\n",
       "0  24-HOUR MAN/EMMANUEL  AA2 35\n",
       "1  3-D MAN/CHARLES CHAN   AVF 4\n",
       "2  3-D MAN/CHARLES CHAN   AVF 5\n",
       "3  3-D MAN/CHARLES CHAN   COC 1\n",
       "4  3-D MAN/CHARLES CHAN  H2 251"
      ]
     },
     "execution_count": 3,
     "metadata": {},
     "output_type": "execute_result"
    }
   ],
   "source": [
    "edgesdf.head()"
   ]
  },
  {
   "cell_type": "code",
   "execution_count": 21,
   "id": "0e1585b8",
   "metadata": {},
   "outputs": [
    {
     "data": {
      "text/html": [
       "<div>\n",
       "<style scoped>\n",
       "    .dataframe tbody tr th:only-of-type {\n",
       "        vertical-align: middle;\n",
       "    }\n",
       "\n",
       "    .dataframe tbody tr th {\n",
       "        vertical-align: top;\n",
       "    }\n",
       "\n",
       "    .dataframe thead th {\n",
       "        text-align: right;\n",
       "    }\n",
       "</style>\n",
       "<table border=\"1\" class=\"dataframe\">\n",
       "  <thead>\n",
       "    <tr style=\"text-align: right;\">\n",
       "      <th></th>\n",
       "      <th>hero</th>\n",
       "      <th>comic</th>\n",
       "    </tr>\n",
       "  </thead>\n",
       "  <tbody>\n",
       "    <tr>\n",
       "      <th>count</th>\n",
       "      <td>96104</td>\n",
       "      <td>96104</td>\n",
       "    </tr>\n",
       "    <tr>\n",
       "      <th>unique</th>\n",
       "      <td>6439</td>\n",
       "      <td>12651</td>\n",
       "    </tr>\n",
       "    <tr>\n",
       "      <th>top</th>\n",
       "      <td>SPIDER-MAN/PETER PARKER</td>\n",
       "      <td>COC 1</td>\n",
       "    </tr>\n",
       "    <tr>\n",
       "      <th>freq</th>\n",
       "      <td>1577</td>\n",
       "      <td>111</td>\n",
       "    </tr>\n",
       "  </tbody>\n",
       "</table>\n",
       "</div>"
      ],
      "text/plain": [
       "                           hero  comic\n",
       "count                     96104  96104\n",
       "unique                     6439  12651\n",
       "top     SPIDER-MAN/PETER PARKER  COC 1\n",
       "freq                       1577    111"
      ]
     },
     "execution_count": 21,
     "metadata": {},
     "output_type": "execute_result"
    }
   ],
   "source": [
    "edgesdf.describe()"
   ]
  },
  {
   "cell_type": "code",
   "execution_count": 4,
   "id": "39b3364f",
   "metadata": {},
   "outputs": [
    {
     "data": {
      "text/html": [
       "<div>\n",
       "<style scoped>\n",
       "    .dataframe tbody tr th:only-of-type {\n",
       "        vertical-align: middle;\n",
       "    }\n",
       "\n",
       "    .dataframe tbody tr th {\n",
       "        vertical-align: top;\n",
       "    }\n",
       "\n",
       "    .dataframe thead th {\n",
       "        text-align: right;\n",
       "    }\n",
       "</style>\n",
       "<table border=\"1\" class=\"dataframe\">\n",
       "  <thead>\n",
       "    <tr style=\"text-align: right;\">\n",
       "      <th></th>\n",
       "      <th>hero1</th>\n",
       "      <th>hero2</th>\n",
       "    </tr>\n",
       "  </thead>\n",
       "  <tbody>\n",
       "    <tr>\n",
       "      <th>0</th>\n",
       "      <td>LITTLE, ABNER</td>\n",
       "      <td>PRINCESS ZANDA</td>\n",
       "    </tr>\n",
       "    <tr>\n",
       "      <th>1</th>\n",
       "      <td>LITTLE, ABNER</td>\n",
       "      <td>BLACK PANTHER/T'CHAL</td>\n",
       "    </tr>\n",
       "    <tr>\n",
       "      <th>2</th>\n",
       "      <td>BLACK PANTHER/T'CHAL</td>\n",
       "      <td>PRINCESS ZANDA</td>\n",
       "    </tr>\n",
       "    <tr>\n",
       "      <th>3</th>\n",
       "      <td>LITTLE, ABNER</td>\n",
       "      <td>PRINCESS ZANDA</td>\n",
       "    </tr>\n",
       "    <tr>\n",
       "      <th>4</th>\n",
       "      <td>LITTLE, ABNER</td>\n",
       "      <td>BLACK PANTHER/T'CHAL</td>\n",
       "    </tr>\n",
       "  </tbody>\n",
       "</table>\n",
       "</div>"
      ],
      "text/plain": [
       "                  hero1                 hero2\n",
       "0         LITTLE, ABNER        PRINCESS ZANDA\n",
       "1         LITTLE, ABNER  BLACK PANTHER/T'CHAL\n",
       "2  BLACK PANTHER/T'CHAL        PRINCESS ZANDA\n",
       "3         LITTLE, ABNER        PRINCESS ZANDA\n",
       "4         LITTLE, ABNER  BLACK PANTHER/T'CHAL"
      ]
     },
     "execution_count": 4,
     "metadata": {},
     "output_type": "execute_result"
    }
   ],
   "source": [
    "herodf.head()"
   ]
  },
  {
   "cell_type": "code",
   "execution_count": 5,
   "id": "898deb0b",
   "metadata": {},
   "outputs": [
    {
     "data": {
      "text/html": [
       "<div>\n",
       "<style scoped>\n",
       "    .dataframe tbody tr th:only-of-type {\n",
       "        vertical-align: middle;\n",
       "    }\n",
       "\n",
       "    .dataframe tbody tr th {\n",
       "        vertical-align: top;\n",
       "    }\n",
       "\n",
       "    .dataframe thead th {\n",
       "        text-align: right;\n",
       "    }\n",
       "</style>\n",
       "<table border=\"1\" class=\"dataframe\">\n",
       "  <thead>\n",
       "    <tr style=\"text-align: right;\">\n",
       "      <th></th>\n",
       "      <th>node</th>\n",
       "      <th>type</th>\n",
       "    </tr>\n",
       "  </thead>\n",
       "  <tbody>\n",
       "    <tr>\n",
       "      <th>0</th>\n",
       "      <td>2001 10</td>\n",
       "      <td>comic</td>\n",
       "    </tr>\n",
       "    <tr>\n",
       "      <th>1</th>\n",
       "      <td>2001 8</td>\n",
       "      <td>comic</td>\n",
       "    </tr>\n",
       "    <tr>\n",
       "      <th>2</th>\n",
       "      <td>2001 9</td>\n",
       "      <td>comic</td>\n",
       "    </tr>\n",
       "    <tr>\n",
       "      <th>3</th>\n",
       "      <td>24-HOUR MAN/EMMANUEL</td>\n",
       "      <td>hero</td>\n",
       "    </tr>\n",
       "    <tr>\n",
       "      <th>4</th>\n",
       "      <td>3-D MAN/CHARLES CHAN</td>\n",
       "      <td>hero</td>\n",
       "    </tr>\n",
       "  </tbody>\n",
       "</table>\n",
       "</div>"
      ],
      "text/plain": [
       "                   node   type\n",
       "0               2001 10  comic\n",
       "1                2001 8  comic\n",
       "2                2001 9  comic\n",
       "3  24-HOUR MAN/EMMANUEL   hero\n",
       "4  3-D MAN/CHARLES CHAN   hero"
      ]
     },
     "execution_count": 5,
     "metadata": {},
     "output_type": "execute_result"
    }
   ],
   "source": [
    "nodesdf.head()"
   ]
  },
  {
   "cell_type": "markdown",
   "id": "cbbc3602",
   "metadata": {},
   "source": [
    "create connection to database"
   ]
  },
  {
   "cell_type": "code",
   "execution_count": 6,
   "id": "3d44dae8",
   "metadata": {},
   "outputs": [],
   "source": [
    "def create_db():\n",
    "    conn = psycopg2.connect(\"host = localhost dbname = postgres user=postgres password = Lakshmi@1\")\n",
    "    conn.set_session(autocommit = True)\n",
    "    cur = conn.cursor()\n",
    "    \n",
    "    cur.execute(\"DROP DATABASE marvel_heros\")\n",
    "    cur.execute(\"CREATE DATABASE marvel_heros\")\n",
    "    \n",
    "    cur.close()\n",
    "    conn.close()\n",
    "    \n",
    "    conn = psycopg2.connect(\"host = localhost dbname = marvel_heros user=postgres password = Lakshmi@1\")\n",
    "    cur = conn.cursor() \n",
    "    \n",
    "    return cur, conn"
   ]
  },
  {
   "cell_type": "code",
   "execution_count": 7,
   "id": "a4ec4f2f",
   "metadata": {},
   "outputs": [],
   "source": [
    "def drop_tables(cur,conn):\n",
    "    for query in drop_table_queries:\n",
    "        cur.execute(query)\n",
    "        conn.commit()"
   ]
  },
  {
   "cell_type": "code",
   "execution_count": 8,
   "id": "5dd2e894",
   "metadata": {},
   "outputs": [],
   "source": [
    "def create_tables(cur, conn):\n",
    "    for query in create_table_queries:\n",
    "        cur.execute(query)\n",
    "        conn.commit()"
   ]
  },
  {
   "cell_type": "markdown",
   "id": "707938b9",
   "metadata": {},
   "source": [
    "Create connection and cursor "
   ]
  },
  {
   "cell_type": "code",
   "execution_count": 9,
   "id": "dd51c07d",
   "metadata": {},
   "outputs": [],
   "source": [
    "cur, conn = create_db()"
   ]
  },
  {
   "cell_type": "markdown",
   "id": "5c1f03eb",
   "metadata": {},
   "source": [
    "Create edges, heros, nodes tables in marvel_heros database"
   ]
  },
  {
   "cell_type": "code",
   "execution_count": 10,
   "id": "cee6847d",
   "metadata": {},
   "outputs": [],
   "source": [
    "edges_table = (\"CREATE TABLE IF NOT EXISTS edges(hero VARCHAR, comic varchar)\")"
   ]
  },
  {
   "cell_type": "code",
   "execution_count": 11,
   "id": "aa277ec1",
   "metadata": {},
   "outputs": [],
   "source": [
    "cur.execute(edges_table)\n",
    "conn.commit()"
   ]
  },
  {
   "cell_type": "code",
   "execution_count": 12,
   "id": "9c94dbe6",
   "metadata": {},
   "outputs": [],
   "source": [
    "heros_table = (\"CREATE TABLE IF NOT EXISTS heros(hero1 VARCHAR, hero2 varchar)\")"
   ]
  },
  {
   "cell_type": "code",
   "execution_count": 13,
   "id": "7a9d723f",
   "metadata": {},
   "outputs": [],
   "source": [
    "cur.execute(heros_table)\n",
    "conn.commit()"
   ]
  },
  {
   "cell_type": "code",
   "execution_count": 14,
   "id": "5c42b906",
   "metadata": {},
   "outputs": [],
   "source": [
    "nodes_table = (\"CREATE TABLE IF NOT EXISTS nodes(node VARCHAR, type varchar)\")"
   ]
  },
  {
   "cell_type": "code",
   "execution_count": 15,
   "id": "8e624aee",
   "metadata": {},
   "outputs": [],
   "source": [
    "cur.execute(nodes_table)\n",
    "conn.commit()"
   ]
  },
  {
   "cell_type": "code",
   "execution_count": 16,
   "id": "750558ea",
   "metadata": {},
   "outputs": [],
   "source": [
    "cur.execute(\"ROLLBACK\")\n",
    "conn.commit()"
   ]
  },
  {
   "cell_type": "markdown",
   "id": "822a0b8c",
   "metadata": {},
   "source": [
    "Insert values from dataframes to data tables"
   ]
  },
  {
   "cell_type": "code",
   "execution_count": 17,
   "id": "5765808c",
   "metadata": {},
   "outputs": [],
   "source": [
    "edges_insert = (\"INSERT INTO edges(hero, comic) VALUES (%s, %s)\")"
   ]
  },
  {
   "cell_type": "code",
   "execution_count": 22,
   "id": "9a5c76cf",
   "metadata": {},
   "outputs": [],
   "source": [
    "for i, row in edgesdf.iterrows():\n",
    "    cur.execute(edges_insert, row)"
   ]
  },
  {
   "cell_type": "code",
   "execution_count": 23,
   "id": "e1be5de1",
   "metadata": {},
   "outputs": [],
   "source": [
    "heros_insert = (\"INSERT INTO heros(hero1, hero2) VALUES (%s, %s)\")\n",
    "for i, row in herodf.iterrows():\n",
    "    cur.execute(heros_insert, list(row))"
   ]
  },
  {
   "cell_type": "code",
   "execution_count": 24,
   "id": "47c7b8d2",
   "metadata": {},
   "outputs": [],
   "source": [
    "nodes_insert = (\"INSERT INTO nodes(node, type) VALUES (%s, %s)\")"
   ]
  },
  {
   "cell_type": "code",
   "execution_count": 25,
   "id": "763a26bd",
   "metadata": {},
   "outputs": [],
   "source": [
    "for i, row in nodesdf.iterrows():\n",
    "    cur.execute(nodes_insert, list(row))"
   ]
  },
  {
   "cell_type": "code",
   "execution_count": 26,
   "id": "f8119f29",
   "metadata": {},
   "outputs": [],
   "source": [
    "conn.commit()"
   ]
  },
  {
   "cell_type": "markdown",
   "id": "aebb9dd9",
   "metadata": {},
   "source": [
    "Finally close cursor and connection"
   ]
  },
  {
   "cell_type": "code",
   "execution_count": 27,
   "id": "6eac2835",
   "metadata": {},
   "outputs": [],
   "source": [
    "cur.close()\n",
    "conn.close()"
   ]
  }
 ],
 "metadata": {
  "kernelspec": {
   "display_name": "Python 3 (ipykernel)",
   "language": "python",
   "name": "python3"
  },
  "language_info": {
   "codemirror_mode": {
    "name": "ipython",
    "version": 3
   },
   "file_extension": ".py",
   "mimetype": "text/x-python",
   "name": "python",
   "nbconvert_exporter": "python",
   "pygments_lexer": "ipython3",
   "version": "3.9.12"
  }
 },
 "nbformat": 4,
 "nbformat_minor": 5
}
