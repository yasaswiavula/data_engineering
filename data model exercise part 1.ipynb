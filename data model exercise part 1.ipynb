{
 "cells": [
  {
   "cell_type": "markdown",
   "id": "ef6dc467",
   "metadata": {},
   "source": [
    "https://www.youtube.com/watch?v=2xyoz0T47Bs&list=PLBJe2dFI4sgukOW6O0B-OVyX9c6fQKJ2N&index=1"
   ]
  },
  {
   "cell_type": "markdown",
   "id": "bc5c3152",
   "metadata": {},
   "source": [
    "1: Create a table with PostgreSQL"
   ]
  },
  {
   "cell_type": "markdown",
   "id": "8d109564",
   "metadata": {},
   "source": [
    "!pip install psycopg2"
   ]
  },
  {
   "cell_type": "markdown",
   "id": "920f3506",
   "metadata": {},
   "source": [
    "import the library"
   ]
  },
  {
   "cell_type": "code",
   "execution_count": 3,
   "id": "6cb0ea46",
   "metadata": {},
   "outputs": [],
   "source": [
    "import psycopg2"
   ]
  },
  {
   "cell_type": "markdown",
   "id": "d0bc6b55",
   "metadata": {},
   "source": [
    "create connection to database"
   ]
  },
  {
   "cell_type": "code",
   "execution_count": 6,
   "id": "52368d42",
   "metadata": {},
   "outputs": [],
   "source": [
    "try:\n",
    "    conn = psycopg2.connect(\"host = localhost dbname = postgres user=postgres password = Lakshmi@1\")\n",
    "except psycopg2.Error as e:\n",
    "    print(\"Error: Can't connect to Postgres database\")\n",
    "    print(e)"
   ]
  },
  {
   "cell_type": "markdown",
   "id": "63dd5c90",
   "metadata": {},
   "source": [
    "use the connection to get a cursor that can be used to execute queries"
   ]
  },
  {
   "cell_type": "code",
   "execution_count": 7,
   "id": "7316ea09",
   "metadata": {},
   "outputs": [],
   "source": [
    "try:\n",
    "    cur = conn.cursor()\n",
    "except psycopg2.Error as e:\n",
    "    print(\"Error: Coundn't get cursor to the database\")\n",
    "    print(e)"
   ]
  },
  {
   "cell_type": "markdown",
   "id": "65f7a3fd",
   "metadata": {},
   "source": [
    "Set automatic commit to be true so that each column is commited without having to call conn.commit() after each command."
   ]
  },
  {
   "cell_type": "code",
   "execution_count": 8,
   "id": "a3ce19ee",
   "metadata": {},
   "outputs": [],
   "source": [
    "conn.set_session(autocommit=True)"
   ]
  },
  {
   "cell_type": "markdown",
   "id": "2b1ae7b2",
   "metadata": {},
   "source": [
    "create first database "
   ]
  },
  {
   "cell_type": "code",
   "execution_count": 10,
   "id": "add35cf2",
   "metadata": {},
   "outputs": [
    {
     "name": "stdout",
     "output_type": "stream",
     "text": [
      "Error: Coundn't create a database\n",
      "database \"myfirstdb\" already exists\n",
      "\n"
     ]
    }
   ],
   "source": [
    "try:\n",
    "    cur.execute(\"create database myfirstdb\")\n",
    "except psycopg2.Error as e:\n",
    "    print(\"Error: Coundn't create a database\")\n",
    "    print(e)"
   ]
  },
  {
   "cell_type": "markdown",
   "id": "9483ba10",
   "metadata": {},
   "source": [
    "add database name in the connect statement. Let's close our connection to the default database, reconnect to the myfirstdb databse, and get a new cursor."
   ]
  },
  {
   "cell_type": "code",
   "execution_count": 13,
   "id": "eb4f9f96",
   "metadata": {},
   "outputs": [],
   "source": [
    "try:\n",
    "    conn.close()\n",
    "except psycopg2.Error as e:\n",
    "    print(e)\n",
    "    \n",
    "try:\n",
    "    connect = psycopg2.connect(\"host = localhost dbname = myfirstdb user=postgres password = Lakshmi@1\")\n",
    "except psycopg2.Error as e:\n",
    "    print(\"Error: Can't connect to Postgres database\")\n",
    "    print(e)\n",
    "    \n",
    "try:\n",
    "    cur = connect.cursor()\n",
    "except psycopg2.Error as e:\n",
    "    print(\"Error: Coundn't get cursor to the database\")\n",
    "    print(e)\n",
    "    \n",
    "connect.set_session(autocommit=True)"
   ]
  },
  {
   "cell_type": "markdown",
   "id": "4ab2da2d",
   "metadata": {},
   "source": [
    "Create Table for students which includes below columns\n",
    "\n",
    "students\n",
    "- student_id int PK \n",
    "- name varchar\n",
    "- age int \n",
    "- gender varchar\n",
    "- subject varchar \n",
    "- marks int "
   ]
  },
  {
   "cell_type": "code",
   "execution_count": 14,
   "id": "46b3f6f1",
   "metadata": {},
   "outputs": [],
   "source": [
    "try:\n",
    "    cur.execute(\"CREATE TABLE IF NOT EXISTS students(student_id int, name varchar,\\\n",
    "    age int, gender varchar, subject varchar, marks int)\")\n",
    "except psycopg2.Error as e:\n",
    "    print(\"ERROR: Can't create table\")\n",
    "    print(e)"
   ]
  },
  {
   "cell_type": "markdown",
   "id": "96a56a58",
   "metadata": {},
   "source": [
    "### Insert the following two rows in the table\n",
    "\n",
    "- first row: 1, \"Raj\", 23, \"Male\", \"Python\", 85\n",
    "- second row: 2, \"Priya\", 22, \"Female\", \"Java\", 86"
   ]
  },
  {
   "cell_type": "code",
   "execution_count": 15,
   "id": "e054cbf6",
   "metadata": {},
   "outputs": [],
   "source": [
    "try:\n",
    "    cur.execute(\"INSERT INTO students(student_id, name, age, gender, subject, marks) VALUES(1, 'Raj', 23, 'Male', 'Python', 85)\")\n",
    "except psycopg.Error as e:\n",
    "    print(\"Can't insert into table\")\n",
    "    print(e)"
   ]
  },
  {
   "cell_type": "code",
   "execution_count": 17,
   "id": "0e68f096",
   "metadata": {},
   "outputs": [],
   "source": [
    "try:\n",
    "    cur.execute(\"INSERT INTO students(student_id, name, age, gender, subject, marks) VALUES(2, 'Priya', 22, 'Female', 'Java', 86)\")\n",
    "except psycopg.Error as e:\n",
    "    print(\"Can't insert into table\")\n",
    "    print(e)"
   ]
  },
  {
   "cell_type": "markdown",
   "id": "71ed84df",
   "metadata": {},
   "source": [
    "print contents of table"
   ]
  },
  {
   "cell_type": "code",
   "execution_count": 18,
   "id": "8a9fd3fc",
   "metadata": {},
   "outputs": [
    {
     "name": "stdout",
     "output_type": "stream",
     "text": [
      "(1, 'Raj', 23, 'Male', 'Python', 85)\n",
      "(2, 'Priya', 22, 'Female', 'Java', 86)\n"
     ]
    }
   ],
   "source": [
    "try:\n",
    "    cur.execute(\"SELECT * FROM students\")\n",
    "except psycopg.Error as e:\n",
    "    print(\"error printing table contents\")\n",
    "    print(e)\n",
    "    \n",
    "    \n",
    "row = cur.fetchone()\n",
    "while row:\n",
    "    print(row)\n",
    "    row = cur.fetchone()"
   ]
  },
  {
   "cell_type": "markdown",
   "id": "a50fbce5",
   "metadata": {},
   "source": [
    "Finally close cursor and connection"
   ]
  },
  {
   "cell_type": "code",
   "execution_count": 19,
   "id": "f310fed1",
   "metadata": {},
   "outputs": [],
   "source": [
    "cur.close()\n",
    "connect.close()"
   ]
  },
  {
   "cell_type": "code",
   "execution_count": null,
   "id": "1a42fe04",
   "metadata": {},
   "outputs": [],
   "source": []
  }
 ],
 "metadata": {
  "kernelspec": {
   "display_name": "Python 3 (ipykernel)",
   "language": "python",
   "name": "python3"
  },
  "language_info": {
   "codemirror_mode": {
    "name": "ipython",
    "version": 3
   },
   "file_extension": ".py",
   "mimetype": "text/x-python",
   "name": "python",
   "nbconvert_exporter": "python",
   "pygments_lexer": "ipython3",
   "version": "3.9.12"
  }
 },
 "nbformat": 4,
 "nbformat_minor": 5
}
